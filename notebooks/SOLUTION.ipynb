{
  "cells": [
    {
      "cell_type": "markdown",
      "id": "9ea2d371",
      "metadata": {
        "id": "9ea2d371"
      },
      "source": [
        "# Few-shot learning 기반 얼굴 유사도 평가해보기"
      ]
    },
    {
      "cell_type": "markdown",
      "id": "4275ad09",
      "metadata": {
        "id": "4275ad09"
      },
      "source": [
        "## 1. ORL face 데이터셋 살펴보기"
      ]
    },
    {
      "cell_type": "code",
      "execution_count": null,
      "id": "aa663c69",
      "metadata": {
        "id": "aa663c69"
      },
      "outputs": [],
      "source": [
        "import os\n",
        "from pathlib import Path"
      ]
    },
    {
      "cell_type": "code",
      "execution_count": null,
      "id": "9802a3c5",
      "metadata": {
        "id": "9802a3c5"
      },
      "outputs": [],
      "source": [
        "data_dir = \"../DATASET/Face-Recognition/\"\n",
        "phase = \"train\""
      ]
    },
    {
      "cell_type": "code",
      "execution_count": null,
      "id": "13278500",
      "metadata": {
        "id": "13278500"
      },
      "outputs": [],
      "source": [
        "person_items = []"
      ]
    },
    {
      "cell_type": "code",
      "execution_count": null,
      "id": "53e8db01",
      "metadata": {
        "id": "53e8db01"
      },
      "outputs": [],
      "source": [
        "for (root, dirs, files) in os.walk(os.path.join(data_dir, phase)):\n",
        "    if len(files) > 0:\n",
        "        for file_name in files:\n",
        "            person_items.append(os.path.join(root, file_name))"
      ]
    },
    {
      "cell_type": "code",
      "execution_count": null,
      "id": "78748b43",
      "metadata": {
        "scrolled": true,
        "id": "78748b43",
        "outputId": "faa0df8a-b089-469a-e8f1-d3b5db13e6f4"
      },
      "outputs": [
        {
          "data": {
            "text/plain": [
              "['../DATASET/Face-Recognition/train\\\\s1\\\\1.png',\n",
              " '../DATASET/Face-Recognition/train\\\\s1\\\\10.png',\n",
              " '../DATASET/Face-Recognition/train\\\\s1\\\\2.png',\n",
              " '../DATASET/Face-Recognition/train\\\\s1\\\\3.png',\n",
              " '../DATASET/Face-Recognition/train\\\\s1\\\\4.png',\n",
              " '../DATASET/Face-Recognition/train\\\\s1\\\\5.png',\n",
              " '../DATASET/Face-Recognition/train\\\\s1\\\\6.png',\n",
              " '../DATASET/Face-Recognition/train\\\\s1\\\\7.png',\n",
              " '../DATASET/Face-Recognition/train\\\\s1\\\\8.png',\n",
              " '../DATASET/Face-Recognition/train\\\\s1\\\\9.png',\n",
              " '../DATASET/Face-Recognition/train\\\\s10\\\\1.png',\n",
              " '../DATASET/Face-Recognition/train\\\\s10\\\\10.png',\n",
              " '../DATASET/Face-Recognition/train\\\\s10\\\\2.png',\n",
              " '../DATASET/Face-Recognition/train\\\\s10\\\\3.png',\n",
              " '../DATASET/Face-Recognition/train\\\\s10\\\\4.png',\n",
              " '../DATASET/Face-Recognition/train\\\\s10\\\\5.png',\n",
              " '../DATASET/Face-Recognition/train\\\\s10\\\\6.png',\n",
              " '../DATASET/Face-Recognition/train\\\\s10\\\\7.png',\n",
              " '../DATASET/Face-Recognition/train\\\\s10\\\\8.png',\n",
              " '../DATASET/Face-Recognition/train\\\\s10\\\\9.png',\n",
              " '../DATASET/Face-Recognition/train\\\\s2\\\\1.png',\n",
              " '../DATASET/Face-Recognition/train\\\\s2\\\\10.png',\n",
              " '../DATASET/Face-Recognition/train\\\\s2\\\\2.png',\n",
              " '../DATASET/Face-Recognition/train\\\\s2\\\\3.png',\n",
              " '../DATASET/Face-Recognition/train\\\\s2\\\\4.png',\n",
              " '../DATASET/Face-Recognition/train\\\\s2\\\\5.png',\n",
              " '../DATASET/Face-Recognition/train\\\\s2\\\\6.png',\n",
              " '../DATASET/Face-Recognition/train\\\\s2\\\\7.png',\n",
              " '../DATASET/Face-Recognition/train\\\\s2\\\\8.png',\n",
              " '../DATASET/Face-Recognition/train\\\\s2\\\\9.png',\n",
              " '../DATASET/Face-Recognition/train\\\\s3\\\\1.png',\n",
              " '../DATASET/Face-Recognition/train\\\\s3\\\\10.png',\n",
              " '../DATASET/Face-Recognition/train\\\\s3\\\\2.png',\n",
              " '../DATASET/Face-Recognition/train\\\\s3\\\\3.png',\n",
              " '../DATASET/Face-Recognition/train\\\\s3\\\\4.png',\n",
              " '../DATASET/Face-Recognition/train\\\\s3\\\\5.png',\n",
              " '../DATASET/Face-Recognition/train\\\\s3\\\\6.png',\n",
              " '../DATASET/Face-Recognition/train\\\\s3\\\\7.png',\n",
              " '../DATASET/Face-Recognition/train\\\\s3\\\\8.png',\n",
              " '../DATASET/Face-Recognition/train\\\\s3\\\\9.png',\n",
              " '../DATASET/Face-Recognition/train\\\\s4\\\\1.png',\n",
              " '../DATASET/Face-Recognition/train\\\\s4\\\\10.png',\n",
              " '../DATASET/Face-Recognition/train\\\\s4\\\\2.png',\n",
              " '../DATASET/Face-Recognition/train\\\\s4\\\\3.png',\n",
              " '../DATASET/Face-Recognition/train\\\\s4\\\\4.png',\n",
              " '../DATASET/Face-Recognition/train\\\\s4\\\\5.png',\n",
              " '../DATASET/Face-Recognition/train\\\\s4\\\\6.png',\n",
              " '../DATASET/Face-Recognition/train\\\\s4\\\\7.png',\n",
              " '../DATASET/Face-Recognition/train\\\\s4\\\\8.png',\n",
              " '../DATASET/Face-Recognition/train\\\\s4\\\\9.png',\n",
              " '../DATASET/Face-Recognition/train\\\\s8\\\\1.png',\n",
              " '../DATASET/Face-Recognition/train\\\\s8\\\\10.png',\n",
              " '../DATASET/Face-Recognition/train\\\\s8\\\\2.png',\n",
              " '../DATASET/Face-Recognition/train\\\\s8\\\\3.png',\n",
              " '../DATASET/Face-Recognition/train\\\\s8\\\\4.png',\n",
              " '../DATASET/Face-Recognition/train\\\\s8\\\\5.png',\n",
              " '../DATASET/Face-Recognition/train\\\\s8\\\\6.png',\n",
              " '../DATASET/Face-Recognition/train\\\\s8\\\\7.png',\n",
              " '../DATASET/Face-Recognition/train\\\\s8\\\\8.png',\n",
              " '../DATASET/Face-Recognition/train\\\\s8\\\\9.png',\n",
              " '../DATASET/Face-Recognition/train\\\\s9\\\\1.png',\n",
              " '../DATASET/Face-Recognition/train\\\\s9\\\\10.png',\n",
              " '../DATASET/Face-Recognition/train\\\\s9\\\\2.png',\n",
              " '../DATASET/Face-Recognition/train\\\\s9\\\\3.png',\n",
              " '../DATASET/Face-Recognition/train\\\\s9\\\\4.png',\n",
              " '../DATASET/Face-Recognition/train\\\\s9\\\\5.png',\n",
              " '../DATASET/Face-Recognition/train\\\\s9\\\\6.png',\n",
              " '../DATASET/Face-Recognition/train\\\\s9\\\\7.png',\n",
              " '../DATASET/Face-Recognition/train\\\\s9\\\\8.png',\n",
              " '../DATASET/Face-Recognition/train\\\\s9\\\\9.png']"
            ]
          },
          "execution_count": 5,
          "metadata": {},
          "output_type": "execute_result"
        }
      ],
      "source": [
        "person_items"
      ]
    },
    {
      "cell_type": "code",
      "execution_count": null,
      "id": "9eb56bee",
      "metadata": {
        "id": "9eb56bee"
      },
      "outputs": [],
      "source": [
        "index = 0\n",
        "faceA_path = person_items[index]"
      ]
    },
    {
      "cell_type": "code",
      "execution_count": null,
      "id": "b772b2e2",
      "metadata": {
        "id": "b772b2e2",
        "outputId": "377386fb-1f0e-40e2-a318-8c80565fd2f2"
      },
      "outputs": [
        {
          "data": {
            "text/plain": [
              "'../DATASET/Face-Recognition/train\\\\s1\\\\1.png'"
            ]
          },
          "execution_count": 7,
          "metadata": {},
          "output_type": "execute_result"
        }
      ],
      "source": [
        "faceA_path"
      ]
    },
    {
      "cell_type": "code",
      "execution_count": null,
      "id": "08918914",
      "metadata": {
        "id": "08918914",
        "outputId": "ee8deb82-b81a-4d94-ff4f-65bef728fe77"
      },
      "outputs": [
        {
          "data": {
            "text/plain": [
              "WindowsPath('../DATASET/Face-Recognition/train/s1')"
            ]
          },
          "execution_count": 8,
          "metadata": {},
          "output_type": "execute_result"
        }
      ],
      "source": [
        "Path(faceA_path).parent"
      ]
    },
    {
      "cell_type": "code",
      "execution_count": null,
      "id": "bd4ed932",
      "metadata": {
        "id": "bd4ed932",
        "outputId": "fdec0962-0876-4b2f-8738-92e620ed2ca7"
      },
      "outputs": [
        {
          "data": {
            "text/plain": [
              "'s1'"
            ]
          },
          "execution_count": 9,
          "metadata": {},
          "output_type": "execute_result"
        }
      ],
      "source": [
        "Path(faceA_path).parent.name"
      ]
    },
    {
      "cell_type": "code",
      "execution_count": null,
      "id": "a3d30819",
      "metadata": {
        "id": "a3d30819"
      },
      "outputs": [],
      "source": [
        "person = Path(faceA_path).parent.name"
      ]
    },
    {
      "cell_type": "code",
      "execution_count": null,
      "id": "37f91319",
      "metadata": {
        "scrolled": true,
        "id": "37f91319",
        "outputId": "0270e8e8-9d1e-4f0a-c971-5d505b87a60f"
      },
      "outputs": [
        {
          "data": {
            "text/plain": [
              "'s1'"
            ]
          },
          "execution_count": 11,
          "metadata": {},
          "output_type": "execute_result"
        }
      ],
      "source": [
        "person"
      ]
    },
    {
      "cell_type": "code",
      "execution_count": null,
      "id": "212254c2",
      "metadata": {
        "id": "212254c2"
      },
      "outputs": [],
      "source": [
        "same_person_dir = Path(faceA_path).parent"
      ]
    },
    {
      "cell_type": "code",
      "execution_count": null,
      "id": "fd745126",
      "metadata": {
        "id": "fd745126",
        "outputId": "9039902b-5e93-49e7-d1ec-8e1d39d7c58d"
      },
      "outputs": [
        {
          "data": {
            "text/plain": [
              "['1.png',\n",
              " '10.png',\n",
              " '2.png',\n",
              " '3.png',\n",
              " '4.png',\n",
              " '5.png',\n",
              " '6.png',\n",
              " '7.png',\n",
              " '8.png',\n",
              " '9.png']"
            ]
          },
          "execution_count": 13,
          "metadata": {},
          "output_type": "execute_result"
        }
      ],
      "source": [
        "[fn for fn in os.listdir(same_person_dir) if fn.endswith('png')]"
      ]
    },
    {
      "cell_type": "code",
      "execution_count": null,
      "id": "f706e9b5",
      "metadata": {
        "id": "f706e9b5"
      },
      "outputs": [],
      "source": [
        "same_person_images = [fn for fn in os.listdir(same_person_dir) if fn.endswith('png')]"
      ]
    },
    {
      "cell_type": "code",
      "execution_count": null,
      "id": "aa7d9cfa",
      "metadata": {
        "id": "aa7d9cfa"
      },
      "outputs": [],
      "source": [
        "import numpy as np"
      ]
    },
    {
      "cell_type": "code",
      "execution_count": null,
      "id": "38dd5f7b",
      "metadata": {
        "id": "38dd5f7b",
        "outputId": "415bcb00-c021-4028-e0f8-bea084895555"
      },
      "outputs": [
        {
          "data": {
            "text/plain": [
              "'9.png'"
            ]
          },
          "execution_count": 16,
          "metadata": {},
          "output_type": "execute_result"
        }
      ],
      "source": [
        "np.random.choice(same_person_images)"
      ]
    },
    {
      "cell_type": "code",
      "execution_count": null,
      "id": "beedfeb7",
      "metadata": {
        "id": "beedfeb7",
        "outputId": "3dfc004f-52aa-4268-c60a-b7826267848a"
      },
      "outputs": [
        {
          "data": {
            "text/plain": [
              "WindowsPath('../DATASET/Face-Recognition/train/s1')"
            ]
          },
          "execution_count": 17,
          "metadata": {},
          "output_type": "execute_result"
        }
      ],
      "source": [
        "same_person_dir"
      ]
    },
    {
      "cell_type": "code",
      "execution_count": null,
      "id": "a5e33b0a",
      "metadata": {
        "id": "a5e33b0a"
      },
      "outputs": [],
      "source": [
        "faceB_path = os.path.join(same_person_dir, np.random.choice(same_person_images))"
      ]
    },
    {
      "cell_type": "code",
      "execution_count": null,
      "id": "567235ba",
      "metadata": {
        "id": "567235ba"
      },
      "outputs": [],
      "source": [
        "import cv2\n",
        "import matplotlib.pyplot as plt"
      ]
    },
    {
      "cell_type": "code",
      "execution_count": null,
      "id": "8a0239a6",
      "metadata": {
        "id": "8a0239a6"
      },
      "outputs": [],
      "source": [
        "faceA_image = cv2.imread(faceA_path, 0)\n",
        "faceB_image = cv2.imread(faceB_path, 0)"
      ]
    },
    {
      "cell_type": "code",
      "execution_count": null,
      "id": "edcc12c5",
      "metadata": {
        "id": "edcc12c5",
        "outputId": "37c9860b-c806-48d6-b163-3bb0049f3897"
      },
      "outputs": [
        {
          "data": {
            "image/png": "[encoded data removed]",
            "text/plain": [
              "<Figure size 432x288 with 2 Axes>"
            ]
          },
          "metadata": {
            "needs_background": "light"
          },
          "output_type": "display_data"
        }
      ],
      "source": [
        "plt.figure()\n",
        "plt.subplot(121)\n",
        "plt.imshow(faceA_image, cmap='gray')\n",
        "plt.subplot(122)\n",
        "plt.imshow(faceB_image, cmap='gray')\n",
        "plt.show()"
      ]
    },
    {
      "cell_type": "code",
      "execution_count": null,
      "id": "83d9eb22",
      "metadata": {
        "id": "83d9eb22",
        "outputId": "b7c3fcd6-be54-4805-d83b-79694a9ae584"
      },
      "outputs": [
        {
          "data": {
            "text/plain": [
              "'s1'"
            ]
          },
          "execution_count": 22,
          "metadata": {},
          "output_type": "execute_result"
        }
      ],
      "source": [
        "person"
      ]
    },
    {
      "cell_type": "code",
      "execution_count": null,
      "id": "55ee3acb",
      "metadata": {
        "id": "55ee3acb"
      },
      "outputs": [],
      "source": [
        "while True:\n",
        "    faceB_path = np.random.choice(person_items)\n",
        "    if person != Path(faceB_path).parent.name:\n",
        "        break"
      ]
    },
    {
      "cell_type": "code",
      "execution_count": null,
      "id": "f2d729cf",
      "metadata": {
        "id": "f2d729cf"
      },
      "outputs": [],
      "source": [
        "faceA_image = cv2.imread(faceA_path, 0)\n",
        "faceB_image = cv2.imread(faceB_path, 0)"
      ]
    },
    {
      "cell_type": "code",
      "execution_count": null,
      "id": "5c07ec6a",
      "metadata": {
        "id": "5c07ec6a",
        "outputId": "c23cf301-12d5-4b6b-ba92-a898ac47eeae"
      },
      "outputs": [
        {
          "data": {
            "image/png": "[encoded data removed]",
            "text/plain": [
              "<Figure size 432x288 with 2 Axes>"
            ]
          },
          "metadata": {
            "needs_background": "light"
          },
          "output_type": "display_data"
        }
      ],
      "source": [
        "plt.figure()\n",
        "plt.subplot(121)\n",
        "plt.imshow(faceA_image, cmap='gray')\n",
        "plt.subplot(122)\n",
        "plt.imshow(faceB_image, cmap='gray')\n",
        "plt.show()"
      ]
    },
    {
      "cell_type": "markdown",
      "id": "9dfd919f",
      "metadata": {
        "id": "9dfd919f"
      },
      "source": [
        "## 2. Few-shot learning 을 위한 데이터셋 구축과 연산을 위한 텐서변환 모듈 작성하기"
      ]
    },
    {
      "cell_type": "code",
      "execution_count": null,
      "id": "1728f307",
      "metadata": {
        "id": "1728f307"
      },
      "outputs": [],
      "source": [
        "class Face_Dataset():\n",
        "    def __init__(self, data_dir, phase, transformer=None):\n",
        "        self.person_items = []\n",
        "        for (root, dirs, files) in os.walk(os.path.join(data_dir, phase)):\n",
        "            if len(files) > 0:\n",
        "                for file_name in files:\n",
        "                    self.person_items.append(os.path.join(root, file_name))\n",
        "\n",
        "        self.transformer = transformer\n",
        "        \n",
        "    def __len__(self):\n",
        "        return len(self.person_items)\n",
        "    \n",
        "    def __getitem__(self, index, ):\n",
        "        faceA_path = self.person_items[index]\n",
        "        person = Path(faceA_path).parent.name\n",
        "        same_person = np.random.randint(2)\n",
        "        \n",
        "        if same_person:\n",
        "            same_person_dir = Path(faceA_path).parent\n",
        "            same_person_fn = [fn for fn in os.listdir(same_person_dir) if fn.endswith(\"png\")]\n",
        "            faceB_path = os.path.join(same_person_dir, np.random.choice(same_person_fn))\n",
        "        else:\n",
        "            while True:\n",
        "                faceB_path = np.random.choice(self.person_items)\n",
        "                if person != Path(faceB_path).parent.name:\n",
        "                    break\n",
        "                    \n",
        "        faceA_image = cv2.imread(faceA_path, 0)\n",
        "        faceB_image = cv2.imread(faceB_path, 0)\n",
        "        \n",
        "        if self.transformer:\n",
        "            faceA_image = self.transformer(faceA_image)\n",
        "            faceB_image = self.transformer(faceB_image)\n",
        "            \n",
        "        return faceA_image, faceB_image, np.array([1-same_person])"
      ]
    },
    {
      "cell_type": "code",
      "execution_count": null,
      "id": "c3d37013",
      "metadata": {
        "id": "c3d37013"
      },
      "outputs": [],
      "source": [
        "data_dir = \"../DATASET/Face-Recognition\"\n",
        "trn_ds = Face_Dataset(data_dir, phase=\"train\")"
      ]
    },
    {
      "cell_type": "code",
      "execution_count": null,
      "id": "88a256ce",
      "metadata": {
        "id": "88a256ce",
        "outputId": "91053672-5f06-4fcf-952f-5795bafb3058"
      },
      "outputs": [
        {
          "name": "stdout",
          "output_type": "stream",
          "text": [
            "[1]\n"
          ]
        },
        {
          "data": {
            "image/png": "[encoded data removed]",
            "text/plain": [
              "<Figure size 432x432 with 2 Axes>"
            ]
          },
          "metadata": {
            "needs_background": "light"
          },
          "output_type": "display_data"
        }
      ],
      "source": [
        "faceA, faceB, other = trn_ds[0]\n",
        "plt.figure(figsize=(6, 6))\n",
        "plt.subplot(121)\n",
        "plt.imshow(faceA, cmap='gray')\n",
        "plt.subplot(122)\n",
        "plt.imshow(faceB, cmap='gray')\n",
        "print(other)"
      ]
    },
    {
      "cell_type": "code",
      "execution_count": null,
      "id": "8ab76de4",
      "metadata": {
        "id": "8ab76de4"
      },
      "outputs": [],
      "source": [
        "from ipywidgets import interact"
      ]
    },
    {
      "cell_type": "code",
      "execution_count": null,
      "id": "4998a82a",
      "metadata": {
        "id": "4998a82a",
        "outputId": "d2cf4e8f-3012-48f1-9722-8e2b10e025ca",
        "colab": {
          "referenced_widgets": [
            "03cbc0dffac84f92bf41f8874432ab55"
          ]
        }
      },
      "outputs": [
        {
          "data": {
            "application/vnd.jupyter.widget-view+json": {
              "model_id": "03cbc0dffac84f92bf41f8874432ab55",
              "version_major": 2,
              "version_minor": 0
            },
            "text/plain": [
              "interactive(children=(IntSlider(value=0, description='index', max=69), Output()), _dom_classes=('widget-intera…"
            ]
          },
          "metadata": {},
          "output_type": "display_data"
        }
      ],
      "source": [
        "@interact(index=(0, len(trn_ds)-1))\n",
        "def show_sample(index=0):\n",
        "    faceA, faceB, other = trn_ds[index]\n",
        "    plt.figure(figsize=(6, 6))\n",
        "    plt.subplot(121)\n",
        "    plt.imshow(faceA, cmap='gray')\n",
        "    plt.subplot(122)\n",
        "    plt.imshow(faceB, cmap='gray')\n",
        "    print(other)"
      ]
    },
    {
      "cell_type": "code",
      "execution_count": null,
      "id": "52f9a405",
      "metadata": {
        "id": "52f9a405"
      },
      "outputs": [],
      "source": [
        "from torchvision import transforms\n",
        "from torch.utils.data import DataLoader"
      ]
    },
    {
      "cell_type": "code",
      "execution_count": null,
      "id": "42b949e8",
      "metadata": {
        "id": "42b949e8"
      },
      "outputs": [],
      "source": [
        "def build_transformer(image_size=100):\n",
        "    transformers = {}\n",
        "    transformers[\"train\"] = transforms.Compose([\n",
        "        transforms.ToPILImage(),\n",
        "        transforms.RandomAffine(degrees=5, translate=(0.05,0.05), scale=(0.9,1.1)),\n",
        "        transforms.RandomHorizontalFlip(),\n",
        "        transforms.Resize((image_size,image_size)),\n",
        "        transforms.ToTensor(),\n",
        "        transforms.Normalize((0.5), (0.5))\n",
        "    ])\n",
        "    transformers[\"val\"] = transforms.Compose([\n",
        "        transforms.ToPILImage(),\n",
        "        transforms.Resize((image_size,image_size)),\n",
        "        transforms.ToTensor(),\n",
        "        transforms.Normalize((0.5), (0.5))\n",
        "    ])\n",
        "    return transformers"
      ]
    },
    {
      "cell_type": "code",
      "execution_count": null,
      "id": "15da79d5",
      "metadata": {
        "id": "15da79d5"
      },
      "outputs": [],
      "source": [
        "IMAGE_SIZE = 100\n",
        "transformers = build_transformer(image_size=IMAGE_SIZE)\n",
        "\n",
        "tr_dataset = Face_Dataset(data_dir, phase=\"train\", transformer=transformers[\"train\"])\n",
        "val_dataset = Face_Dataset(data_dir, phase=\"val\", transformer=transformers[\"val\"])\n",
        "tr_dataloader = DataLoader(tr_dataset, shuffle=True, batch_size=64)\n",
        "val_dataloader = DataLoader(val_dataset, shuffle=False, batch_size=64)"
      ]
    },
    {
      "cell_type": "code",
      "execution_count": null,
      "id": "6e37207c",
      "metadata": {
        "id": "6e37207c"
      },
      "outputs": [],
      "source": [
        "def build_dataloader(data_dir, batch_size=64):\n",
        "    dataloaders = {}\n",
        "    \n",
        "    transformers = build_transformer()\n",
        "    tr_dataset = Face_Dataset(data_dir, phase=\"train\", transformer=transformers[\"train\"])\n",
        "    dataloaders[\"train\"] = DataLoader(tr_dataset, shuffle=True, batch_size=batch_size)\n",
        "    \n",
        "    val_dataset = Face_Dataset(data_dir, phase=\"val\", transformer=transformers[\"val\"])\n",
        "    dataloaders[\"val\"] = DataLoader(val_dataset, shuffle=False, batch_size=batch_size)\n",
        "    return dataloaders"
      ]
    },
    {
      "cell_type": "code",
      "execution_count": null,
      "id": "6dc4e326",
      "metadata": {
        "id": "6dc4e326"
      },
      "outputs": [],
      "source": [
        "data_dir = \"../DATASET/Face-Recognition/\"\n",
        "BATCH_SIZE = 64\n",
        "dataloaders = build_dataloader(data_dir, batch_size=BATCH_SIZE)"
      ]
    },
    {
      "cell_type": "code",
      "execution_count": null,
      "id": "12062e68",
      "metadata": {
        "id": "12062e68",
        "outputId": "156d952a-7038-4b5c-8df6-5298c91572c6"
      },
      "outputs": [
        {
          "name": "stdout",
          "output_type": "stream",
          "text": [
            "train - 0/2\n",
            "val - 0/1\n",
            "train - 0/2\n",
            "val - 0/1\n",
            "train - 0/2\n",
            "val - 0/1\n"
          ]
        }
      ],
      "source": [
        "for _ in range(3):\n",
        "    for phase in [\"train\", \"val\"]:\n",
        "        for index, batch in enumerate(dataloaders[phase]):\n",
        "            faceAs = batch[0]\n",
        "            faceBs = batch[1]\n",
        "            others = batch[2]\n",
        "                    \n",
        "            if index % 100 == 0:\n",
        "                print(f\"{phase} - {index}/{len(dataloaders[phase])}\")"
      ]
    },
    {
      "cell_type": "markdown",
      "id": "706abd66",
      "metadata": {
        "id": "706abd66"
      },
      "source": [
        "## 3. Siamese network 아키텍처 소개와 구현해보기"
      ]
    },
    {
      "cell_type": "markdown",
      "id": "eb626809",
      "metadata": {
        "id": "eb626809"
      },
      "source": [
        "![network1.png](attachment:network1.png)"
      ]
    },
    {
      "cell_type": "code",
      "execution_count": null,
      "id": "9ebfaf38",
      "metadata": {
        "id": "9ebfaf38"
      },
      "outputs": [],
      "source": [
        "import torch\n",
        "from torch import nn"
      ]
    },
    {
      "cell_type": "code",
      "execution_count": null,
      "id": "bd0675cd",
      "metadata": {
        "id": "bd0675cd"
      },
      "outputs": [],
      "source": [
        "def convBlock(in_channel, out_channel):\n",
        "    return nn.Sequential(\n",
        "        nn.Conv2d(in_channel, out_channel, kernel_size=3, padding=1),\n",
        "        nn.ReLU(inplace=True),\n",
        "        nn.BatchNorm2d(out_channel),\n",
        "    )"
      ]
    },
    {
      "cell_type": "code",
      "execution_count": null,
      "id": "56a91e44",
      "metadata": {
        "id": "56a91e44"
      },
      "outputs": [],
      "source": [
        "class SiameseNetwork(nn.Module):\n",
        "    def __init__(self):\n",
        "        super().__init__()\n",
        "        self.features = nn.Sequential(\n",
        "            convBlock(1,4),\n",
        "            convBlock(4,8),\n",
        "            convBlock(8,8),\n",
        "            nn.Flatten(),\n",
        "            nn.Linear(8*100*100, 512), nn.ReLU(inplace=True),\n",
        "            nn.Linear(512, 256), nn.ReLU(inplace=True),\n",
        "            nn.Linear(256, 10)\n",
        "        )\n",
        "\n",
        "    def forward(self, x1, x2):\n",
        "        out1 = self.features(x1)\n",
        "        out2 = self.features(x2)\n",
        "        return out1, out2"
      ]
    },
    {
      "cell_type": "code",
      "execution_count": null,
      "id": "96abcefc",
      "metadata": {
        "id": "96abcefc"
      },
      "outputs": [],
      "source": [
        "IMAGE_SIZE = 100\n",
        "x1 = torch.randn(1, 1, IMAGE_SIZE, IMAGE_SIZE)\n",
        "x2 = torch.randn(1, 1, IMAGE_SIZE, IMAGE_SIZE)\n",
        "\n",
        "model = SiameseNetwork()\n",
        "\n",
        "out1, out2 = model(x1, x2)"
      ]
    },
    {
      "cell_type": "code",
      "execution_count": null,
      "id": "9db42262",
      "metadata": {
        "id": "9db42262",
        "outputId": "3200ced3-d99b-4f87-e7ec-f84476e8fa9e"
      },
      "outputs": [
        {
          "name": "stdout",
          "output_type": "stream",
          "text": [
            "torch.Size([1, 10])\n",
            "torch.Size([1, 10])\n"
          ]
        }
      ],
      "source": [
        "print(out1.shape)\n",
        "print(out2.shape)"
      ]
    },
    {
      "cell_type": "markdown",
      "id": "dbc898a6",
      "metadata": {
        "id": "dbc898a6"
      },
      "source": [
        "## 4. Contrastive loss function 설명 및 구현해보기"
      ]
    },
    {
      "cell_type": "markdown",
      "id": "c9eee225",
      "metadata": {
        "id": "c9eee225"
      },
      "source": [
        "![contr_loss.PNG](attachment:contr_loss.PNG)\n",
        "출처: https://pyimagesearch.com/2021/01/18/contrastive-loss-for-siamese-networks-with-keras-and-tensorflow/"
      ]
    },
    {
      "cell_type": "code",
      "execution_count": null,
      "id": "d2d3dbe5",
      "metadata": {
        "id": "d2d3dbe5"
      },
      "outputs": [],
      "source": [
        "import torch.nn.functional as F"
      ]
    },
    {
      "cell_type": "code",
      "execution_count": null,
      "id": "c3e62b8f",
      "metadata": {
        "id": "c3e62b8f"
      },
      "outputs": [],
      "source": [
        "class ContrastiveLoss(nn.Module):\n",
        "    def __init__(self, margin):\n",
        "        super().__init__()\n",
        "        self.margin = margin\n",
        "    \n",
        "    def forward(self, z1, z2, label):\n",
        "        dist = F.pairwise_distance(z1, z2, keepdim=True)\n",
        "        loss = torch.mean((1-label) * torch.pow(dist, 2) + label * torch.pow(torch.clamp((self.margin - dist), min=0), 2))\n",
        "        acc = ((dist > 0.6) == label).float().mean()\n",
        "        return loss, acc"
      ]
    },
    {
      "cell_type": "code",
      "execution_count": null,
      "id": "7cf6f27f",
      "metadata": {
        "id": "7cf6f27f"
      },
      "outputs": [],
      "source": [
        "class ContrastiveLoss(nn.Module):\n",
        "    def __init__(self, margin=2.0):\n",
        "        super().__init__()\n",
        "        self.margin = margin\n",
        "        \n",
        "    def forward(self, output1, output2, label):\n",
        "        euclidean_distance = F.pairwise_distance(output1, output2, keepdim = True)\n",
        "        loss_contrastive = torch.mean((1-label) * torch.pow(euclidean_distance, 2) +\n",
        "                                      label * torch.clamp(self.margin**2 - torch.pow(euclidean_distance, 2), min=0.0))\n",
        "        acc = ((euclidean_distance > 0.6) == label).float().mean()\n",
        "        return loss_contrastive, acc"
      ]
    },
    {
      "cell_type": "markdown",
      "id": "fe0b4786",
      "metadata": {
        "id": "fe0b4786"
      },
      "source": [
        "## 5. Face recognition을 위한 학습코드 작성해보기"
      ]
    },
    {
      "cell_type": "code",
      "execution_count": null,
      "id": "fc8a6889",
      "metadata": {
        "id": "fc8a6889"
      },
      "outputs": [],
      "source": [
        "def train_one_epoch(dataloaders, model, criterion, optimizer, device):\n",
        "    losses = {}\n",
        "    accuracies = {}\n",
        "    \n",
        "    for phase in [\"train\", \"val\"]:\n",
        "        running_loss = 0.0\n",
        "        running_acc = 0\n",
        "        \n",
        "        if phase == \"train\":\n",
        "            model.train()\n",
        "        else:\n",
        "            model.eval()\n",
        "            \n",
        "        for index, batch in enumerate(dataloaders[phase]):\n",
        "            imgA = batch[0].to(device)\n",
        "            imgB = batch[1].to(device)\n",
        "            label = batch[2].to(device)\n",
        "            \n",
        "            optimizer.zero_grad()\n",
        "            with torch.set_grad_enabled(phase == \"train\"):\n",
        "                codeA, codeB = model(imgA, imgB)\n",
        "            loss, acc = criterion(codeA, codeB, label)\n",
        "                \n",
        "            if phase == \"train\":\n",
        "                loss.backward()\n",
        "                optimizer.step()\n",
        "            \n",
        "            running_loss += loss.item()\n",
        "            running_acc += acc.item()\n",
        "                    \n",
        "        losses[phase] = running_loss/len(dataloaders[phase])\n",
        "        accuracies[phase] = running_acc/len(dataloaders[phase])\n",
        "    return losses, accuracies"
      ]
    },
    {
      "cell_type": "code",
      "execution_count": null,
      "id": "f1c40023",
      "metadata": {
        "id": "f1c40023"
      },
      "outputs": [],
      "source": [
        "def save_model(model_state, model_name, save_dir=\"./trained_model\"):\n",
        "    os.makedirs(save_dir, exist_ok=True)\n",
        "    torch.save(model_state, os.path.join(save_dir, model_name))"
      ]
    },
    {
      "cell_type": "code",
      "execution_count": null,
      "id": "75eb0e34",
      "metadata": {
        "id": "75eb0e34"
      },
      "outputs": [],
      "source": [
        "data_dir = \"../DATASET/Face-Recognition\"\n",
        "is_cuda = True\n",
        "\n",
        "IMAGE_SIZE = 100\n",
        "BATCH_SIZE = 256\n",
        "DEVICE = torch.device('cuda' if torch.cuda.is_available() and is_cuda else 'cpu')\n",
        "\n",
        "dataloaders = build_dataloader(data_dir, batch_size=BATCH_SIZE)\n",
        "model = SiameseNetwork()\n",
        "model = model.to(DEVICE)\n",
        "criterion = ContrastiveLoss(margin=2.0)\n",
        "optimizer = torch.optim.SGD(model.parameters(), lr = 0.001, momentum=0.9)"
      ]
    },
    {
      "cell_type": "code",
      "execution_count": null,
      "id": "20d4d85a",
      "metadata": {
        "id": "20d4d85a",
        "outputId": "5959e7bb-d9c0-4a98-b542-6a0ecd55da00"
      },
      "outputs": [
        {
          "name": "stdout",
          "output_type": "stream",
          "text": [
            "0/100 - Train loss: 1.5267, Val loss: 2.3879\n",
            "0/100 - Train acc: 0.5000, Val acc: 0.4000\n",
            "1/100 - Train loss: 1.2569, Val loss: 1.9879\n",
            "1/100 - Train acc: 0.5714, Val acc: 0.5000\n",
            "2/100 - Train loss: 1.3061, Val loss: 1.9836\n",
            "2/100 - Train acc: 0.5143, Val acc: 0.5000\n",
            "3/100 - Train loss: 1.3205, Val loss: 1.9785\n",
            "3/100 - Train acc: 0.4857, Val acc: 0.5000\n",
            "4/100 - Train loss: 1.2768, Val loss: 2.5002\n",
            "4/100 - Train acc: 0.5571, Val acc: 0.3667\n",
            "5/100 - Train loss: 1.0747, Val loss: 2.0940\n",
            "5/100 - Train acc: 0.6000, Val acc: 0.4667\n",
            "6/100 - Train loss: 0.9740, Val loss: 1.9414\n",
            "6/100 - Train acc: 0.5857, Val acc: 0.5000\n",
            "7/100 - Train loss: 1.0784, Val loss: 1.7872\n",
            "7/100 - Train acc: 0.5143, Val acc: 0.5333\n",
            "8/100 - Train loss: 0.7524, Val loss: 1.7546\n",
            "8/100 - Train acc: 0.5857, Val acc: 0.5333\n",
            "9/100 - Train loss: 0.7882, Val loss: 1.6939\n",
            "9/100 - Train acc: 0.5143, Val acc: 0.5333\n",
            "10/100 - Train loss: 0.6939, Val loss: 2.3388\n",
            "10/100 - Train acc: 0.5857, Val acc: 0.3333\n",
            "11/100 - Train loss: 0.6046, Val loss: 1.8824\n",
            "11/100 - Train acc: 0.6714, Val acc: 0.4333\n",
            "12/100 - Train loss: 0.5447, Val loss: 1.4208\n",
            "12/100 - Train acc: 0.7429, Val acc: 0.5333\n",
            "13/100 - Train loss: 0.6053, Val loss: 1.6224\n",
            "13/100 - Train acc: 0.7000, Val acc: 0.4000\n",
            "14/100 - Train loss: 0.4963, Val loss: 1.4260\n",
            "14/100 - Train acc: 0.6714, Val acc: 0.6000\n",
            "15/100 - Train loss: 0.3066, Val loss: 1.1158\n",
            "15/100 - Train acc: 0.7143, Val acc: 0.7000\n",
            "16/100 - Train loss: 0.4147, Val loss: 0.7686\n",
            "16/100 - Train acc: 0.6000, Val acc: 0.9667\n",
            "17/100 - Train loss: 0.3285, Val loss: 0.6029\n",
            "17/100 - Train acc: 0.7571, Val acc: 0.9333\n",
            "18/100 - Train loss: 0.4815, Val loss: 0.5715\n",
            "18/100 - Train acc: 0.7143, Val acc: 0.9667\n",
            "19/100 - Train loss: 0.3011, Val loss: 0.9051\n",
            "19/100 - Train acc: 0.7571, Val acc: 0.9333\n",
            "20/100 - Train loss: 0.3751, Val loss: 0.4676\n",
            "20/100 - Train acc: 0.7714, Val acc: 0.9333\n",
            "21/100 - Train loss: 0.3567, Val loss: 0.5464\n",
            "21/100 - Train acc: 0.8000, Val acc: 1.0000\n",
            "22/100 - Train loss: 0.2910, Val loss: 0.5404\n",
            "22/100 - Train acc: 0.8000, Val acc: 0.8667\n",
            "23/100 - Train loss: 0.2397, Val loss: 0.6522\n",
            "23/100 - Train acc: 0.9000, Val acc: 0.8000\n",
            "24/100 - Train loss: 0.3648, Val loss: 0.6183\n",
            "24/100 - Train acc: 0.8571, Val acc: 0.8333\n",
            "25/100 - Train loss: 0.4423, Val loss: 0.4116\n",
            "25/100 - Train acc: 0.8429, Val acc: 0.8667\n",
            "26/100 - Train loss: 0.2915, Val loss: 0.3343\n",
            "26/100 - Train acc: 0.7714, Val acc: 0.8000\n",
            "27/100 - Train loss: 0.3269, Val loss: 0.5703\n",
            "27/100 - Train acc: 0.8143, Val acc: 0.8667\n",
            "28/100 - Train loss: 0.3047, Val loss: 0.4631\n",
            "28/100 - Train acc: 0.7571, Val acc: 0.8000\n",
            "29/100 - Train loss: 0.2452, Val loss: 0.5351\n",
            "29/100 - Train acc: 0.7714, Val acc: 0.7333\n",
            "30/100 - Train loss: 0.2189, Val loss: 0.4025\n",
            "30/100 - Train acc: 0.8429, Val acc: 0.8667\n",
            "31/100 - Train loss: 0.1855, Val loss: 0.4874\n",
            "31/100 - Train acc: 0.8857, Val acc: 0.8333\n",
            "32/100 - Train loss: 0.2188, Val loss: 0.6297\n",
            "32/100 - Train acc: 0.8571, Val acc: 0.7667\n",
            "33/100 - Train loss: 0.1698, Val loss: 0.7926\n",
            "33/100 - Train acc: 0.9143, Val acc: 0.7667\n",
            "34/100 - Train loss: 0.2320, Val loss: 0.6583\n",
            "34/100 - Train acc: 0.8571, Val acc: 0.7333\n",
            "35/100 - Train loss: 0.2166, Val loss: 0.2886\n",
            "35/100 - Train acc: 0.8714, Val acc: 0.9000\n",
            "36/100 - Train loss: 0.2069, Val loss: 0.7967\n",
            "36/100 - Train acc: 0.8571, Val acc: 0.7667\n",
            "37/100 - Train loss: 0.1786, Val loss: 0.6601\n",
            "37/100 - Train acc: 0.9286, Val acc: 0.7000\n",
            "38/100 - Train loss: 0.2831, Val loss: 0.7831\n",
            "38/100 - Train acc: 0.8286, Val acc: 0.7000\n",
            "39/100 - Train loss: 0.1694, Val loss: 0.8748\n",
            "39/100 - Train acc: 0.9286, Val acc: 0.6000\n",
            "40/100 - Train loss: 0.1713, Val loss: 0.8042\n",
            "40/100 - Train acc: 0.9143, Val acc: 0.8000\n",
            "41/100 - Train loss: 0.1976, Val loss: 0.8220\n",
            "41/100 - Train acc: 0.8571, Val acc: 0.7667\n",
            "42/100 - Train loss: 0.1924, Val loss: 0.8558\n",
            "42/100 - Train acc: 0.9143, Val acc: 0.6000\n",
            "43/100 - Train loss: 0.1245, Val loss: 0.6121\n",
            "43/100 - Train acc: 0.9143, Val acc: 0.8333\n",
            "44/100 - Train loss: 0.2255, Val loss: 0.8594\n",
            "44/100 - Train acc: 0.8000, Val acc: 0.7667\n",
            "45/100 - Train loss: 0.1632, Val loss: 0.9758\n",
            "45/100 - Train acc: 0.9286, Val acc: 0.6667\n",
            "46/100 - Train loss: 0.2041, Val loss: 0.6394\n",
            "46/100 - Train acc: 0.8857, Val acc: 0.8333\n",
            "47/100 - Train loss: 0.1267, Val loss: 0.9122\n",
            "47/100 - Train acc: 0.9429, Val acc: 0.8000\n",
            "48/100 - Train loss: 0.1309, Val loss: 0.9236\n",
            "48/100 - Train acc: 0.8714, Val acc: 0.7333\n",
            "49/100 - Train loss: 0.1653, Val loss: 0.4969\n",
            "49/100 - Train acc: 0.9143, Val acc: 0.9000\n",
            "50/100 - Train loss: 0.2038, Val loss: 0.6782\n",
            "50/100 - Train acc: 0.9286, Val acc: 0.8000\n",
            "51/100 - Train loss: 0.1871, Val loss: 0.9510\n",
            "51/100 - Train acc: 0.9143, Val acc: 0.6667\n",
            "52/100 - Train loss: 0.1228, Val loss: 0.8587\n",
            "52/100 - Train acc: 0.9143, Val acc: 0.8667\n",
            "53/100 - Train loss: 0.1377, Val loss: 0.8176\n",
            "53/100 - Train acc: 0.9286, Val acc: 0.8333\n",
            "54/100 - Train loss: 0.1602, Val loss: 0.8517\n",
            "54/100 - Train acc: 0.9571, Val acc: 0.8000\n",
            "55/100 - Train loss: 0.1871, Val loss: 0.6317\n",
            "55/100 - Train acc: 0.9000, Val acc: 0.8000\n",
            "56/100 - Train loss: 0.1277, Val loss: 0.4231\n",
            "56/100 - Train acc: 0.9429, Val acc: 0.8667\n",
            "57/100 - Train loss: 0.1279, Val loss: 0.6130\n",
            "57/100 - Train acc: 0.9143, Val acc: 0.6667\n",
            "58/100 - Train loss: 0.1104, Val loss: 0.5640\n",
            "58/100 - Train acc: 0.9286, Val acc: 0.8333\n",
            "59/100 - Train loss: 0.1241, Val loss: 0.9024\n",
            "59/100 - Train acc: 0.9286, Val acc: 0.8000\n",
            "60/100 - Train loss: 0.1283, Val loss: 0.5192\n",
            "60/100 - Train acc: 0.9286, Val acc: 0.8333\n",
            "61/100 - Train loss: 0.0987, Val loss: 0.3986\n",
            "61/100 - Train acc: 0.9286, Val acc: 0.8333\n",
            "62/100 - Train loss: 0.1536, Val loss: 0.6574\n",
            "62/100 - Train acc: 0.8714, Val acc: 0.8333\n",
            "63/100 - Train loss: 0.1069, Val loss: 0.5593\n",
            "63/100 - Train acc: 0.9429, Val acc: 0.7667\n",
            "64/100 - Train loss: 0.1053, Val loss: 0.6786\n",
            "64/100 - Train acc: 1.0000, Val acc: 0.6667\n",
            "65/100 - Train loss: 0.1477, Val loss: 0.3853\n",
            "65/100 - Train acc: 0.9714, Val acc: 0.8667\n",
            "66/100 - Train loss: 0.0945, Val loss: 0.5853\n",
            "66/100 - Train acc: 0.9571, Val acc: 0.7667\n",
            "67/100 - Train loss: 0.1242, Val loss: 0.5034\n",
            "67/100 - Train acc: 0.9714, Val acc: 0.8333\n",
            "68/100 - Train loss: 0.0990, Val loss: 0.4897\n",
            "68/100 - Train acc: 0.9714, Val acc: 0.8000\n",
            "69/100 - Train loss: 0.1154, Val loss: 0.4534\n",
            "69/100 - Train acc: 0.9571, Val acc: 0.8000\n",
            "70/100 - Train loss: 0.0947, Val loss: 0.6990\n",
            "70/100 - Train acc: 0.9571, Val acc: 0.7667\n",
            "71/100 - Train loss: 0.0821, Val loss: 0.8095\n",
            "71/100 - Train acc: 1.0000, Val acc: 0.7333\n",
            "72/100 - Train loss: 0.1128, Val loss: 0.6596\n",
            "72/100 - Train acc: 0.9286, Val acc: 0.7000\n",
            "73/100 - Train loss: 0.1094, Val loss: 0.4723\n",
            "73/100 - Train acc: 0.9000, Val acc: 0.8333\n",
            "74/100 - Train loss: 0.0990, Val loss: 0.5668\n",
            "74/100 - Train acc: 0.9857, Val acc: 0.8333\n",
            "75/100 - Train loss: 0.0894, Val loss: 0.5220\n",
            "75/100 - Train acc: 0.9571, Val acc: 0.8333\n",
            "76/100 - Train loss: 0.0744, Val loss: 0.2586\n",
            "76/100 - Train acc: 0.9571, Val acc: 0.9000\n",
            "77/100 - Train loss: 0.0882, Val loss: 0.3925\n",
            "77/100 - Train acc: 0.9571, Val acc: 0.8333\n",
            "78/100 - Train loss: 0.0890, Val loss: 0.6431\n",
            "78/100 - Train acc: 0.9714, Val acc: 0.6333\n",
            "79/100 - Train loss: 0.0881, Val loss: 0.5546\n",
            "79/100 - Train acc: 0.9714, Val acc: 0.8000\n",
            "80/100 - Train loss: 0.0770, Val loss: 0.6139\n",
            "80/100 - Train acc: 1.0000, Val acc: 0.8000\n",
            "81/100 - Train loss: 0.0996, Val loss: 0.6428\n",
            "81/100 - Train acc: 0.9714, Val acc: 0.7333\n",
            "82/100 - Train loss: 0.0747, Val loss: 0.3578\n",
            "82/100 - Train acc: 0.9714, Val acc: 0.8000\n",
            "83/100 - Train loss: 0.1225, Val loss: 0.3813\n",
            "83/100 - Train acc: 0.9429, Val acc: 0.8333\n",
            "84/100 - Train loss: 0.0597, Val loss: 0.5987\n",
            "84/100 - Train acc: 0.9714, Val acc: 0.8000\n",
            "85/100 - Train loss: 0.0745, Val loss: 0.9138\n",
            "85/100 - Train acc: 0.9857, Val acc: 0.7667\n",
            "86/100 - Train loss: 0.0872, Val loss: 0.3582\n",
            "86/100 - Train acc: 0.9857, Val acc: 0.9000\n",
            "87/100 - Train loss: 0.0822, Val loss: 0.8599\n",
            "87/100 - Train acc: 1.0000, Val acc: 0.7000\n",
            "88/100 - Train loss: 0.0676, Val loss: 1.0375\n",
            "88/100 - Train acc: 0.9857, Val acc: 0.6333\n",
            "89/100 - Train loss: 0.0847, Val loss: 0.8945\n",
            "89/100 - Train acc: 0.9714, Val acc: 0.6000\n",
            "90/100 - Train loss: 0.1250, Val loss: 0.4390\n",
            "90/100 - Train acc: 0.9429, Val acc: 0.8333\n",
            "91/100 - Train loss: 0.0930, Val loss: 0.5722\n",
            "91/100 - Train acc: 0.9714, Val acc: 0.7333\n"
          ]
        },
        {
          "name": "stdout",
          "output_type": "stream",
          "text": [
            "92/100 - Train loss: 0.0678, Val loss: 0.3045\n",
            "92/100 - Train acc: 0.9714, Val acc: 0.8667\n",
            "93/100 - Train loss: 0.0672, Val loss: 0.7663\n",
            "93/100 - Train acc: 0.9857, Val acc: 0.7000\n",
            "94/100 - Train loss: 0.0714, Val loss: 0.7323\n",
            "94/100 - Train acc: 0.9857, Val acc: 0.6667\n",
            "95/100 - Train loss: 0.0778, Val loss: 0.7885\n",
            "95/100 - Train acc: 0.9714, Val acc: 0.7000\n",
            "96/100 - Train loss: 0.0685, Val loss: 0.6456\n",
            "96/100 - Train acc: 0.9857, Val acc: 0.7333\n",
            "97/100 - Train loss: 0.0666, Val loss: 0.5351\n",
            "97/100 - Train acc: 0.9714, Val acc: 0.8000\n",
            "98/100 - Train loss: 0.0603, Val loss: 0.8016\n",
            "98/100 - Train acc: 0.9857, Val acc: 0.7000\n",
            "99/100 - Train loss: 0.0889, Val loss: 0.9642\n",
            "99/100 - Train acc: 0.9714, Val acc: 0.6667\n"
          ]
        }
      ],
      "source": [
        "num_epochs = 100\n",
        "\n",
        "best_epoch = 0\n",
        "best_score = 0.0\n",
        "train_loss, train_acc = [], []\n",
        "val_loss, val_acc = [], []\n",
        "\n",
        "for epoch in range(num_epochs):\n",
        "    losses, accs = train_one_epoch(dataloaders, model, criterion, optimizer, DEVICE)\n",
        "    train_loss.append(losses[\"train\"])\n",
        "    val_loss.append(losses[\"val\"])\n",
        "    train_acc.append(accs[\"train\"])\n",
        "    val_acc.append(accs[\"val\"])\n",
        "    \n",
        "    print(f\"{epoch}/{num_epochs} - Train loss: {losses['train']:.4f}, Val loss: {losses['val']:.4f}\")\n",
        "    print(f\"{epoch}/{num_epochs} - Train acc: {accs['train']:.4f}, Val acc: {accs['val']:.4f}\")\n",
        "        \n",
        "    if (epoch+1) % 20 == 0:\n",
        "        save_model(model.state_dict(), f'model_{epoch+1}.pth')"
      ]
    },
    {
      "cell_type": "markdown",
      "id": "dfdf9934",
      "metadata": {
        "id": "dfdf9934"
      },
      "source": [
        "![loss_figure.png](attachment:loss_figure.png)"
      ]
    },
    {
      "cell_type": "markdown",
      "id": "b80c7669",
      "metadata": {
        "id": "b80c7669"
      },
      "source": [
        "## 6. 학습한 모델로 유사도 평가해보기"
      ]
    },
    {
      "cell_type": "code",
      "execution_count": null,
      "id": "bc6b07f6",
      "metadata": {
        "id": "bc6b07f6"
      },
      "outputs": [],
      "source": [
        "def load_model(ckpt_path, device):\n",
        "    checkpoint = torch.load(ckpt_path, map_location=device)\n",
        "    model = SiameseNetwork()\n",
        "    model.load_state_dict(checkpoint)\n",
        "    model.eval()\n",
        "    return model.to(device)"
      ]
    },
    {
      "cell_type": "code",
      "execution_count": null,
      "id": "52d9fa4a",
      "metadata": {
        "id": "52d9fa4a"
      },
      "outputs": [],
      "source": [
        "ckpt_path = \"./trained_model/model_100.pth\"\n",
        "is_cuda = False\n",
        "\n",
        "IMAGE_SIZE = 100\n",
        "DEVICE = torch.device('cuda' if is_cuda and torch.cuda.is_available() else 'cpu')\n",
        "model = load_model(ckpt_path, DEVICE)"
      ]
    },
    {
      "cell_type": "code",
      "execution_count": null,
      "id": "cca71b62",
      "metadata": {
        "id": "cca71b62"
      },
      "outputs": [],
      "source": [
        "transformer = transforms.Compose([\n",
        "    transforms.ToPILImage(),\n",
        "    transforms.Resize((IMAGE_SIZE, IMAGE_SIZE)),\n",
        "    transforms.ToTensor(),\n",
        "    transforms.Normalize((0.5), (0.5))\n",
        "])"
      ]
    },
    {
      "cell_type": "code",
      "execution_count": null,
      "id": "818c9f49",
      "metadata": {
        "id": "818c9f49"
      },
      "outputs": [],
      "source": [
        "from ipywidgets import interact"
      ]
    },
    {
      "cell_type": "code",
      "execution_count": null,
      "id": "f23da417",
      "metadata": {
        "id": "f23da417"
      },
      "outputs": [],
      "source": [
        "@torch.no_grad()\n",
        "def recognize_face(dataset, index, model, device):\n",
        "    val_dataset = dataset(data_dir, phase=\"val\")\n",
        "    faceA, faceB, label = val_dataset[index]\n",
        "    tensor_faceA = transformer(faceA).to(device)\n",
        "    tensor_faceB = transformer(faceB).to(device)\n",
        "    \n",
        "    codeA, codeB = model(tensor_faceA.unsqueeze(0), tensor_faceB.unsqueeze(0))\n",
        "    euclidean_distance = F.pairwise_distance(codeA, codeB)\n",
        "    \n",
        "    output = \"Same person\" if euclidean_distance.item() < 0.6 else \"Different person\"\n",
        "    return faceA, faceB, euclidean_distance.item(), output"
      ]
    },
    {
      "cell_type": "code",
      "execution_count": null,
      "id": "6f539202",
      "metadata": {
        "id": "6f539202",
        "outputId": "9dbf642f-bad7-4f5f-888f-ac44ce7240af",
        "colab": {
          "referenced_widgets": [
            "755841cade3c416a81208bb53f4f3104"
          ]
        }
      },
      "outputs": [
        {
          "data": {
            "application/vnd.jupyter.widget-view+json": {
              "model_id": "755841cade3c416a81208bb53f4f3104",
              "version_major": 2,
              "version_minor": 0
            },
            "text/plain": [
              "interactive(children=(IntSlider(value=0, description='index', max=29), Output()), _dom_classes=('widget-intera…"
            ]
          },
          "metadata": {},
          "output_type": "display_data"
        }
      ],
      "source": [
        "@interact(index=(0,29), continuous_update=False)\n",
        "def show_result(index=0):\n",
        "    faceA, faceB, distance, output = recognize_face(Face_Dataset, index, model, DEVICE)\n",
        "    plt.figure(figsize=(7, 4))\n",
        "    plt.suptitle(f\"{output} - Dissimilarity: {distance:.2f}\")\n",
        "    plt.subplot(121)\n",
        "    plt.imshow(faceA, cmap='gray')\n",
        "    plt.subplot(122)\n",
        "    plt.imshow(faceB, cmap='gray')\n",
        "    plt.tight_layout()"
      ]
    },
    {
      "cell_type": "code",
      "execution_count": null,
      "id": "061ba9ef",
      "metadata": {
        "id": "061ba9ef"
      },
      "outputs": [],
      "source": []
    }
  ],
  "metadata": {
    "kernelspec": {
      "display_name": "Python 3 (ipykernel)",
      "language": "python",
      "name": "python3"
    },
    "language_info": {
      "codemirror_mode": {
        "name": "ipython",
        "version": 3
      },
      "file_extension": ".py",
      "mimetype": "text/x-python",
      "name": "python",
      "nbconvert_exporter": "python",
      "pygments_lexer": "ipython3",
      "version": "3.8.13"
    },
    "colab": {
      "provenance": []
    }
  },
  "nbformat": 4,
  "nbformat_minor": 5
}